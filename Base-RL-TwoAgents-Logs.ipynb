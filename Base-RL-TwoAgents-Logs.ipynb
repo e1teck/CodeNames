{
 "cells": [
  {
   "cell_type": "markdown",
   "metadata": {},
   "source": [
    "### Data"
   ]
  },
  {
   "cell_type": "code",
   "execution_count": 1,
   "metadata": {},
   "outputs": [],
   "source": [
    "import itertools\n",
    "import numpy as np\n",
    "\n",
    "from load_data import CodeNamesData"
   ]
  },
  {
   "cell_type": "code",
   "execution_count": 2,
   "metadata": {},
   "outputs": [],
   "source": [
    "data = CodeNamesData('words_categories.txt')"
   ]
  },
  {
   "cell_type": "code",
   "execution_count": 3,
   "metadata": {},
   "outputs": [],
   "source": [
    "sample_field = data.sample_field()"
   ]
  },
  {
   "cell_type": "code",
   "execution_count": 4,
   "metadata": {},
   "outputs": [
    {
     "name": "stderr",
     "output_type": "stream",
     "text": [
      "\n"
     ]
    }
   ],
   "source": [
    "import fasttext\n",
    "ft = fasttext.load_model('cc.en.300.bin')\n",
    "\n",
    "word_vectors = {word: ft.get_word_vector(word) for word in data.vocabulary}"
   ]
  },
  {
   "cell_type": "code",
   "execution_count": 5,
   "metadata": {},
   "outputs": [],
   "source": [
    "def get_training_examples(field):\n",
    "    examples = []\n",
    "    blue_cat = set(field['blue'])\n",
    "    for cat in field['blue']:\n",
    "        example = {}\n",
    "        example['chosen_blue'] = field['blue'][cat]\n",
    "        example['other_blue'] = list(itertools.chain(*[field['blue'][c] for c in (blue_cat - set([cat]))]))\n",
    "        example['neutral'] = field['neutral']\n",
    "        example['black'] = field['black']\n",
    "        examples.append((example, cat))\n",
    "    return examples"
   ]
  },
  {
   "cell_type": "code",
   "execution_count": 6,
   "metadata": {},
   "outputs": [],
   "source": [
    "def embed_examples(examples, word2embedding, pad_chosen=True):\n",
    "    result = []\n",
    "    for example, label in examples:\n",
    "        embed_example = {'blue': []}\n",
    "        for w in example['chosen_blue']:\n",
    "            if pad_chosen:\n",
    "                embed_example['blue'].append(np.concatenate([np.ones(1).astype(np.float32), word2embedding[w]]))\n",
    "            else:\n",
    "                embed_example['blue'].append(word2embedding[w])\n",
    "                \n",
    "        for w in example['other_blue']:\n",
    "            if pad_chosen:\n",
    "                embed_example['blue'].append(np.concatenate([np.zeros(1).astype(np.float32), word2embedding[w]]))\n",
    "            else:\n",
    "                embed_example['blue'].append(word2embedding[w])\n",
    "        embed_example['blue'] = np.array(embed_example['blue'])\n",
    "        embed_example['neutral'] = np.array([word2embedding[w] for w in example['neutral']])\n",
    "        embed_example['black'] = word2embedding[example['black']]\n",
    "        result.append((embed_example, label))\n",
    "    return result"
   ]
  },
  {
   "cell_type": "code",
   "execution_count": 7,
   "metadata": {},
   "outputs": [],
   "source": [
    "category2idx = {category: i for i, category in enumerate(data.categories)}\n",
    "idx2category = {v: k for k, v in category2idx.items()}"
   ]
  },
  {
   "cell_type": "code",
   "execution_count": 8,
   "metadata": {},
   "outputs": [],
   "source": [
    "from copy import deepcopy\n",
    "\n",
    "def get_examples_for_bob(examples):\n",
    "    bob_examples = []\n",
    "    field = []\n",
    "    for color in examples[0][0]:\n",
    "        if color == 'black':\n",
    "            field.append(examples[0][0][color])\n",
    "        else:\n",
    "            field.extend(examples[0][0][color])\n",
    "    \n",
    "    for field_info, _ in examples:\n",
    "        np.random.shuffle(field)\n",
    "        answers = []\n",
    "        for a in field_info['chosen_blue']:\n",
    "            answers.append(field.index(a))\n",
    "        bob_examples.append((deepcopy(field), answers))\n",
    "    return bob_examples"
   ]
  },
  {
   "cell_type": "code",
   "execution_count": 9,
   "metadata": {},
   "outputs": [],
   "source": [
    "def get_batch(n_fields, word2embedding, pad_chosen=True):\n",
    "    get_batch.fields = []\n",
    "    colored_fields_examples = {'blue': [], 'neutral': [], 'black': [], 'label': []}\n",
    "    fields_examples = {'field': [], 'label': [], 'field_words': []}\n",
    "    fields_embs = []\n",
    "    for i in range(n_fields):\n",
    "        field = data.sample_field()\n",
    "        examples = get_training_examples(field)\n",
    "        bob_examples = get_examples_for_bob(examples)\n",
    "        for bob_example, answers in bob_examples:\n",
    "            fields_examples['field'].append([word2embedding[w] for w in bob_example])\n",
    "            fields_examples['field_words'].append(bob_example)\n",
    "            fields_examples['label'].append(answers)\n",
    "        \n",
    "        fields_embs.extend(embed_examples(examples, word2embedding, pad_chosen))\n",
    "        # get_batch.bob_fields = bob_examples\n",
    "        get_batch.fields.append(field)\n",
    "    \n",
    "    \n",
    "    for field, label in fields_embs:\n",
    "        np.random.shuffle(field['blue'])\n",
    "        np.random.shuffle(field['neutral'])\n",
    "        colored_fields_examples['blue'].append(field['blue'])\n",
    "        colored_fields_examples['neutral'].append(field['neutral'])\n",
    "        colored_fields_examples['black'].append(field['black'])\n",
    "        colored_fields_examples['label'].append(category2idx[label])\n",
    "    colored_fields_examples['blue'] = np.array(colored_fields_examples['blue'])\n",
    "    colored_fields_examples['neutral'] = np.array(colored_fields_examples['neutral'])\n",
    "    colored_fields_examples['black'] = np.array(colored_fields_examples['black'])\n",
    "    \n",
    "    fields_examples['field'] = np.array(fields_examples['field'])\n",
    "    return colored_fields_examples, fields_examples"
   ]
  },
  {
   "cell_type": "code",
   "execution_count": 12,
   "metadata": {
    "scrolled": false
   },
   "outputs": [],
   "source": [
    "from pprint import pprint\n",
    "# pprint(get_batch.fields)"
   ]
  },
  {
   "cell_type": "markdown",
   "metadata": {},
   "source": [
    "### Network"
   ]
  },
  {
   "cell_type": "code",
   "execution_count": 13,
   "metadata": {},
   "outputs": [],
   "source": [
    "import torch\n",
    "import torch.nn.functional as F\n",
    "from torch import nn, optim"
   ]
  },
  {
   "cell_type": "code",
   "execution_count": 14,
   "metadata": {},
   "outputs": [],
   "source": [
    "class AliceNetwork(nn.Module):\n",
    "    def __init__(self, input_size, hidden_size, categories_embs, n_layers, n_hints, \n",
    "                 pad_chosen=True):\n",
    "        super().__init__()\n",
    "        if pad_chosen:\n",
    "            self.emb_blue = nn.LSTM(input_size + 1, hidden_size, n_layers)\n",
    "        else:\n",
    "            self.emb_blue = nn.LSTM(input_size, hidden_size, n_layers)\n",
    "        self.emb_neutral = nn.LSTM(input_size, hidden_size, n_layers)\n",
    "        self.emb_black = nn.Linear(input_size, hidden_size)\n",
    "        self.hint_producer = nn.Sequential(nn.Linear(hidden_size * 3, 512),\n",
    "                                           nn.ReLU(),\n",
    "                                           nn.Linear(512, 300))\n",
    "                                           # nn.ReLU(),\n",
    "                                           # nn.Linear(128, n_hints))\n",
    "        self.categories_embs = categories_embs\n",
    "    \n",
    "    def forward(self, blue_words, neutral_words, black_words):\n",
    "        blue_embs, _ = self.emb_blue(blue_words)\n",
    "        neutral_embs, _ = self.emb_neutral(neutral_words)\n",
    "        black_embs = F.relu(self.emb_black(black_words))\n",
    "        \n",
    "        out = torch.cat([blue_embs[-1], neutral_embs[-1], black_embs], dim=1)\n",
    "        out = self.hint_producer(out)\n",
    "        out = torch.mm(out, self.categories_embs.T)\n",
    "        return out"
   ]
  },
  {
   "cell_type": "code",
   "execution_count": 15,
   "metadata": {},
   "outputs": [],
   "source": [
    "class BobNetwork(nn.Module):\n",
    "    def __init__(self, input_size, hidden_size, \n",
    "                 n_layers, field_size):\n",
    "        super().__init__()\n",
    "        self.emb_field = nn.LSTM(input_size, hidden_size, n_layers)\n",
    "        self.emb_hint = nn.Linear(input_size, hidden_size)\n",
    "        \n",
    "        \n",
    "        self.emb = nn.Sequential(nn.Linear(hidden_size * 2, 512),\n",
    "                                        nn.ReLU(),\n",
    "                                        nn.Linear(512, 300))\n",
    "    \n",
    "    def forward(self, field, hint):\n",
    "        field_emb, _ = self.emb_field(field)\n",
    "        hint_emb = self.emb_hint(hint)\n",
    "        \n",
    "        out = torch.cat([field_emb[-1], hint_emb], dim=1)\n",
    "        out = self.emb(out)\n",
    "        # print(out.shape)\n",
    "        # print(field.shape)\n",
    "        res = []\n",
    "        for i in range(field.shape[1]):\n",
    "            res.append(torch.mm(out[i].view(1, -1), field.permute(1, 0, 2)[i].T))\n",
    "        # out = torch.mm(out[i], field.permute(1, 0, 2)[i].T)\n",
    "        return torch.cat(res)"
   ]
  },
  {
   "cell_type": "code",
   "execution_count": 16,
   "metadata": {},
   "outputs": [],
   "source": [
    "categories_embs = np.array([ft.get_word_vector(word) for word in data.categories])\n",
    "categories_embs = torch.as_tensor(categories_embs)"
   ]
  },
  {
   "cell_type": "code",
   "execution_count": 17,
   "metadata": {},
   "outputs": [],
   "source": [
    "alice_b, bob_b = get_batch(8, word_vectors)"
   ]
  },
  {
   "cell_type": "code",
   "execution_count": 18,
   "metadata": {},
   "outputs": [],
   "source": [
    "alice_net = AliceNetwork(300, 256, categories_embs, 2, 25)\n",
    "bob_net = BobNetwork(300, 256, 2, 25)"
   ]
  },
  {
   "cell_type": "code",
   "execution_count": 19,
   "metadata": {},
   "outputs": [],
   "source": [
    "blue_t = torch.as_tensor(alice_b['blue'], dtype=torch.float32)\n",
    "neutral_t = torch.as_tensor(alice_b['neutral'], dtype=torch.float32)\n",
    "black_t = torch.as_tensor(alice_b['black'], dtype=torch.float32)"
   ]
  },
  {
   "cell_type": "code",
   "execution_count": 20,
   "metadata": {},
   "outputs": [],
   "source": [
    "out = alice_net(blue_t.permute(1, 0, 2), neutral_t.permute(1, 0, 2), black_t)"
   ]
  },
  {
   "cell_type": "code",
   "execution_count": 21,
   "metadata": {},
   "outputs": [],
   "source": [
    "field_t = torch.as_tensor(bob_b['field'], dtype=torch.float32)\n",
    "\n",
    "hint = np.random.choice(data.categories, size=field_t.shape[0])\n",
    "hint_t = torch.as_tensor([ft.get_word_vector(h) for h in hint], dtype=torch.float32)"
   ]
  },
  {
   "cell_type": "code",
   "execution_count": 22,
   "metadata": {},
   "outputs": [],
   "source": [
    "bob_out = bob_net(field_t.permute(1, 0, 2), hint_t)"
   ]
  },
  {
   "cell_type": "code",
   "execution_count": 23,
   "metadata": {},
   "outputs": [
    {
     "data": {
      "text/plain": [
       "tensor([ 3, 20, 14])"
      ]
     },
     "execution_count": 23,
     "metadata": {},
     "output_type": "execute_result"
    }
   ],
   "source": [
    "bob_out[0].topk(3)[1]"
   ]
  },
  {
   "cell_type": "code",
   "execution_count": 28,
   "metadata": {},
   "outputs": [
    {
     "data": {
      "text/plain": [
       "torch.Size([24, 25])"
      ]
     },
     "execution_count": 28,
     "metadata": {},
     "output_type": "execute_result"
    }
   ],
   "source": [
    "bob_out.shape"
   ]
  },
  {
   "cell_type": "code",
   "execution_count": 37,
   "metadata": {},
   "outputs": [],
   "source": [
    "def sample_bob_action(qvalues_tensor, epsilon, n_actions=25, k=1):\n",
    "    actions = qvalues_tensor.topk(k)[1].squeeze()\n",
    "    for i in range(len(actions)):\n",
    "        if epsilon > np.random.random():\n",
    "            actions[i] = np.random.choice(n_actions)\n",
    "    return actions.detach()"
   ]
  },
  {
   "cell_type": "code",
   "execution_count": 38,
   "metadata": {},
   "outputs": [
    {
     "data": {
      "text/plain": [
       "0"
      ]
     },
     "execution_count": 38,
     "metadata": {},
     "output_type": "execute_result"
    }
   ],
   "source": [
    "sum(sample_bob_action(bob_out[0], 0.3, k=3).numpy() == [7, 21, 2])"
   ]
  },
  {
   "cell_type": "code",
   "execution_count": 39,
   "metadata": {},
   "outputs": [
    {
     "data": {
      "text/plain": [
       "tensor(3)"
      ]
     },
     "execution_count": 39,
     "metadata": {},
     "output_type": "execute_result"
    }
   ],
   "source": [
    "bob_out[0].topk(1)[1].squeeze()"
   ]
  },
  {
   "cell_type": "code",
   "execution_count": 41,
   "metadata": {},
   "outputs": [],
   "source": [
    "# act = sample_action(out, 0.5)"
   ]
  },
  {
   "cell_type": "code",
   "execution_count": 26,
   "metadata": {},
   "outputs": [],
   "source": [
    "labels_t = torch.as_tensor(alice_b['label'], dtype=torch.float32)"
   ]
  },
  {
   "cell_type": "code",
   "execution_count": 27,
   "metadata": {},
   "outputs": [
    {
     "data": {
      "text/plain": [
       "tensor([0, 0, 0, 0, 0, 0, 0, 0, 0, 0, 1, 0, 1, 0, 0, 0, 0, 0, 0, 0, 0, 0, 0, 0,\n",
       "        0, 0], dtype=torch.uint8)"
      ]
     },
     "execution_count": 27,
     "metadata": {},
     "output_type": "execute_result"
    }
   ],
   "source": [
    "(labels_t == act).type(torch.uint8)"
   ]
  },
  {
   "cell_type": "code",
   "execution_count": null,
   "metadata": {},
   "outputs": [],
   "source": [
    "torch.zeros()"
   ]
  },
  {
   "cell_type": "markdown",
   "metadata": {},
   "source": [
    "### Training functions"
   ]
  },
  {
   "cell_type": "code",
   "execution_count": 42,
   "metadata": {},
   "outputs": [],
   "source": [
    "import typing as tp\n",
    "from typing_extensions import Protocol\n",
    "\n",
    "class Visitor(Protocol):\n",
    "    def log(self, prediction: tp.Any, target: tp.Any) -> None:\n",
    "        pass"
   ]
  },
  {
   "cell_type": "code",
   "execution_count": 43,
   "metadata": {},
   "outputs": [],
   "source": [
    "device = torch.device('cuda')"
   ]
  },
  {
   "cell_type": "code",
   "execution_count": 44,
   "metadata": {
    "code_folding": [
     53,
     69
    ]
   },
   "outputs": [],
   "source": [
    "from IPython import display\n",
    "import time\n",
    "\n",
    "import matplotlib.pyplot as plt\n",
    "import seaborn as sns\n",
    "\n",
    "def compute_accuracy(logits, labels):\n",
    "    \"\"\"\n",
    "    Computes accuracy\n",
    "    logits (torch.tensor [batch_size, number or labels]): usually the output of the network\n",
    "    labels (torch.tensor): true labels\n",
    "    \"\"\"\n",
    "    acc = np.mean(labels.cpu().numpy() == logits.topk(1, dim=1)\n",
    "                  [1].cpu().data.numpy().reshape(-1))\n",
    "    return acc\n",
    "\n",
    "def train_epoch(\n",
    "    alice_field: tp.Any,\n",
    "    bob_field: tp.Any,\n",
    "    model: torch.nn.Module,\n",
    "    compute_loss: tp.Callable[[torch.tensor, torch.tensor], torch.tensor],\n",
    "    optimizer: torch.optim,\n",
    "    device: torch.device = torch.device(\n",
    "        'cuda:0' if torch.cuda.is_available() else 'cpu'),) -> tp.List[float]:\n",
    "    \"\"\"\n",
    "   Performs one training loop\n",
    "   :param model: model to train\n",
    "   :param compute_loss: function for loss computation, predictions should be passed as logits\n",
    "   :param optimizer: optimizer\n",
    "   :param visitor: visitor with method 'log' which have two required parameters 'prediction' and 'target'\n",
    "   :param device: whether to train on gpu or cpu\n",
    "   :return: epoch loss log and IoU\n",
    "   \"\"\"\n",
    "\n",
    "    loss_log, accuracy_log = [], []\n",
    "\n",
    "    model.train()\n",
    "    blue_tensor = torch.as_tensor(alice_field['blue'], dtype=torch.float32, device=device).permute(1, 0, 2)\n",
    "    neutral_tensor = torch.as_tensor(alice_field['neutral'], dtype=torch.float32, device=device).permute(1, 0, 2)\n",
    "    black_tensor = torch.as_tensor(alice_field['black'], dtype=torch.float32, device=device)\n",
    "    labels = torch.as_tensor(alice_field['label'], dtype=torch.long, device=device)\n",
    "\n",
    "    optimizer.zero_grad()\n",
    "\n",
    "    logits = model(blue_tensor, neutral_tensor, black_tensor)\n",
    "    loss = compute_loss(logits, labels)\n",
    "    loss.backward()\n",
    "    optimizer.step()\n",
    "\n",
    "    loss_log.append(loss.item())\n",
    "    accuracy_log.append(compute_accuracy(logits, labels))\n",
    "\n",
    "    return loss_log, accuracy_log\n",
    "\n",
    "\n",
    "def sample_action(qvalues_tensor, epsilon, n_actions=25):\n",
    "    actions = qvalues_tensor.topk(1)[1].squeeze()\n",
    "    for i in range(len(actions)):\n",
    "        if epsilon > np.random.random():\n",
    "            actions[i] = np.random.choice(n_actions)\n",
    "    return actions.detach()\n",
    "\n",
    "def sample_bob_action(qvalues_tensor, epsilon, n_actions=25, k=1):\n",
    "    actions = qvalues_tensor.topk(k)[1].squeeze()\n",
    "    if k == 1:\n",
    "        actions = actions.view(1)\n",
    "    for i in range(len(actions)):\n",
    "        if epsilon > np.random.random():\n",
    "            actions[i] = np.random.choice(n_actions)\n",
    "    return actions.detach()\n",
    "\n",
    "def train_epoch_qlearning(\n",
    "        alice_field: tp.Any,\n",
    "        bob_field: tp.Any,\n",
    "        model: torch.nn.Module,\n",
    "        bob_model: torch.nn.Module,\n",
    "        optimizer: torch.optim,\n",
    "        bob_optimizer: torch.optim,\n",
    "        epsilon: float,\n",
    "        device: torch.device = torch.device(\n",
    "            'cuda:0' if torch.cuda.is_available() else 'cpu')) -> tp.List[float]:\n",
    "    \"\"\"\n",
    "   Performs one training loop\n",
    "   :param model: model to train\n",
    "   :param compute_loss: function for loss computation, predictions should be passed as logits\n",
    "   :param optimizer: optimizer\n",
    "   :param visitor: visitor with method 'log' which have two required parameters 'prediction' and 'target'\n",
    "   :param device: whether to train on gpu or cpu\n",
    "   :return: epoch loss log and IoU\n",
    "   \"\"\"\n",
    "\n",
    "    loss_log, reward_log = [], []\n",
    "\n",
    "    model.train()\n",
    "    blue_tensor = torch.as_tensor(alice_field['blue'], dtype=torch.float32, device=device).permute(1, 0, 2)\n",
    "    neutral_tensor = torch.as_tensor(alice_field['neutral'], dtype=torch.float32, device=device).permute(1, 0, 2)\n",
    "    black_tensor = torch.as_tensor(alice_field['black'], dtype=torch.float32, device=device)\n",
    "    labels = torch.as_tensor(alice_field['label'], dtype=torch.long, device=device)\n",
    "\n",
    "    optimizer.zero_grad()\n",
    "    bob_optimizer.zero_grad()\n",
    "\n",
    "    qvalues = model(blue_tensor, neutral_tensor, black_tensor)\n",
    "    actions = sample_action(qvalues, epsilon)\n",
    "    qvalues_for_actions = qvalues[range(qvalues.shape[0]), actions]\n",
    "    \n",
    "    hints = model.categories_embs[actions]\n",
    "    bob_field_tensor = torch.as_tensor(bob_field['field'], dtype=torch.float32, device=device).permute(1, 0, 2)\n",
    "    \n",
    "    bob_qvalues = bob_model(bob_field_tensor, hints)\n",
    "    loss = torch.zeros(1, device=device, requires_grad=True)\n",
    "    for i, qvalues in enumerate(bob_qvalues):\n",
    "        gt = bob_field['label'][i]\n",
    "        bob_actions = sample_bob_action(qvalues, epsilon, k=len(gt))\n",
    "        reward = 0 # sum(sorted(bob_actions.cpu().numpy()) == sorted(gt))\n",
    "        for g in gt:\n",
    "            if g in bob_actions:\n",
    "                reward += 1\n",
    "        reward_log.append(reward)\n",
    "        loss = loss + torch.sum((qvalues[bob_actions] - reward) ** 2) + torch.sum((qvalues_for_actions[i] - reward) ** 2)\n",
    "    loss.backward()\n",
    "    optimizer.step()\n",
    "    bob_optimizer.step()\n",
    "    \n",
    "    \n",
    "    \n",
    "    # rewards = (labels == actions).type(torch.float32)\n",
    "    # rewards = (rewards - 1) + (10 * rewards)\n",
    "    # print(rewards)\n",
    "    # print((qvalues_for_actions.squeeze() - rewards.detach().squeeze()) ** 2)\n",
    "    # loss = torch.sum((qvalues_for_actions.squeeze() - rewards.detach().squeeze()) ** 2)\n",
    "    \n",
    "    # loss.backward()\n",
    "    \n",
    "\n",
    "    loss_log.append(loss.item())\n",
    "\n",
    "    return loss_log, reward_log\n",
    "\n",
    "def visualize(train_loss_log, train_accuracy_log):\n",
    "    sns.set()\n",
    "    plt.rcParams[\"figure.figsize\"] = (15, 5)\n",
    "\n",
    "    fig, axs = plt.subplots(1, 2)\n",
    "    axs[0].plot(train_loss_log, label='train')\n",
    "    axs[0].set_xlabel('epochs')\n",
    "    axs[0].set_ylabel('loss')\n",
    "    axs[0].legend()\n",
    "\n",
    "    axs[1].plot(train_accuracy_log, label='train')\n",
    "    axs[1].set_xlabel('epochs')\n",
    "    axs[1].set_ylabel('accuracy')\n",
    "    axs[1].legend()\n",
    "    plt.show()\n",
    "    \n",
    "def ignore_keyboard_traceback(func):\n",
    "    def wrapper(*args, **kwargs):\n",
    "        try:\n",
    "            func(*args, **kwargs)\n",
    "        except KeyboardInterrupt:\n",
    "            pass\n",
    "\n",
    "    return wrapper\n",
    "\n",
    "def get_epsilon(epoch):\n",
    "    epsilon = 0.95\n",
    "    decay = 0.9995\n",
    "    min_epsilon = 0.01\n",
    "    return epsilon * (decay ** epoch)\n",
    "\n",
    "@ignore_keyboard_traceback\n",
    "def train(\n",
    "    n_epochs,\n",
    "    n_fields,\n",
    "    model,\n",
    "    bob_model,\n",
    "    optimizer,\n",
    "    bob_optimizer,\n",
    "    device=torch.device('cuda:0' if torch.cuda.is_available() else 'cpu'),\n",
    "    pad_chosen=True):\n",
    "\n",
    "    model.to(device)\n",
    "    bob_model.to(device)\n",
    "\n",
    "    train_loss_log, train_rewards_log = [], []\n",
    "\n",
    "    for epoch in range(n_epochs):\n",
    "\n",
    "        start = time.time()\n",
    "        alice_field, bob_field = get_batch(n_fields, word_vectors, pad_chosen)\n",
    "        \n",
    "        train_epoch_loss, train_epoch_rewards = train_epoch_qlearning(alice_field,\n",
    "                                                                      bob_field,\n",
    "                                                                      model,\n",
    "                                                                      bob_model,\n",
    "                                                                      optimizer,\n",
    "                                                                      bob_optimizer,\n",
    "                                                                      get_epsilon(epoch),\n",
    "                                                                      device)\n",
    "        if epoch % 50 == 0:\n",
    "            train_loss_log.append(np.mean(train_epoch_loss))\n",
    "        train_rewards_log.append(np.mean(train_epoch_rewards))\n",
    "\n",
    "        end = time.time()\n",
    "\n",
    "        if epoch % 50 == 0:\n",
    "            display.clear_output()\n",
    "            print(f'Epoch #{epoch + 1}')\n",
    "            print('---------------')\n",
    "            print(f'Epoch time:  {int((end - start) % 60)} sec')\n",
    "            print()\n",
    "            print(\n",
    "                f'Train loss: {train_loss_log[-1]:.3f}  |  Train mean rewards: {train_rewards_log[-1]:.3f}'\n",
    "            )\n",
    "            print()\n",
    "\n",
    "            visualize(train_loss_log, train_rewards_log)"
   ]
  },
  {
   "cell_type": "code",
   "execution_count": 45,
   "metadata": {},
   "outputs": [],
   "source": [
    "categories_embs = np.array([ft.get_word_vector(word) for word in data.categories])\n",
    "categories_embs = torch.as_tensor(categories_embs, device=device)"
   ]
  },
  {
   "cell_type": "code",
   "execution_count": 46,
   "metadata": {},
   "outputs": [],
   "source": [
    "input_size = 300\n",
    "hidden_size=256\n",
    "n_layers = 2\n",
    "n_hints = 25\n",
    "pad_chosen=True\n",
    "\n",
    "model = AliceNetwork(input_size, hidden_size, categories_embs, \n",
    "                     n_layers, n_hints, pad_chosen=pad_chosen)\n",
    "bob_model = BobNetwork(input_size, hidden_size, n_layers, field_size=25)\n",
    "\n",
    "criterion = nn.CrossEntropyLoss()\n",
    "optimizer = torch.optim.Adam(model.parameters(), lr=3e-4)\n",
    "bob_optimizer = torch.optim.Adam(bob_model.parameters(), lr=3e-4)"
   ]
  },
  {
   "cell_type": "markdown",
   "metadata": {},
   "source": [
    "### Alice and Bob together"
   ]
  },
  {
   "cell_type": "code",
   "execution_count": 47,
   "metadata": {},
   "outputs": [
    {
     "name": "stdout",
     "output_type": "stream",
     "text": [
      "Epoch #29951\n",
      "---------------\n",
      "Epoch time:  0 sec\n",
      "\n",
      "Train loss: 176.641  |  Train mean rewards: 1.833\n",
      "\n"
     ]
    },
    {
     "data": {
      "image/png": "[encoded data removed]",
      "text/plain": [
       "<Figure size 1080x360 with 2 Axes>"
      ]
     },
     "metadata": {},
     "output_type": "display_data"
    }
   ],
   "source": [
    "n_epochs = 30000\n",
    "n_fields = 16\n",
    "\n",
    "train(n_epochs, n_fields, model, bob_model, optimizer, bob_optimizer, pad_chosen=pad_chosen)"
   ]
  },
  {
   "cell_type": "markdown",
   "metadata": {},
   "source": [
    "### Samples"
   ]
  },
  {
   "cell_type": "code",
   "execution_count": 184,
   "metadata": {},
   "outputs": [],
   "source": [
    "alice_field, bob_field = get_batch(4, word_vectors, pad_chosen)"
   ]
  },
  {
   "cell_type": "code",
   "execution_count": 185,
   "metadata": {},
   "outputs": [
    {
     "name": "stdout",
     "output_type": "stream",
     "text": [
      "Field #0\n",
      "{'black': 'flea',\n",
      " 'blue': {'Day': ['friday', 'monday', 'sunday'],\n",
      "          'Flower': ['mimosa', 'orchid', 'jasmine'],\n",
      "          'Month': ['may', 'april']},\n",
      " 'neutral': ['shirt',\n",
      "             'golf',\n",
      "             'cylinder',\n",
      "             'goose',\n",
      "             'drum',\n",
      "             'beans',\n",
      "             'mexico',\n",
      "             'france',\n",
      "             'cucumber',\n",
      "             'seagull',\n",
      "             'carrot',\n",
      "             'kiwi',\n",
      "             'blouse',\n",
      "             'aluminum',\n",
      "             'physics',\n",
      "             'geology']}\n",
      "--------------------\n",
      "Field #1\n",
      "{'black': 'horse',\n",
      " 'blue': {'Body': ['heart', 'hand'],\n",
      "          'Head': ['nose', 'wrinkles', 'forehead'],\n",
      "          'Music': ['notes', 'opera', 'organ']},\n",
      " 'neutral': ['football',\n",
      "             'salad',\n",
      "             'hawk',\n",
      "             'bear',\n",
      "             'strawberry',\n",
      "             'sunday',\n",
      "             'beans',\n",
      "             'duck',\n",
      "             'cardigan',\n",
      "             'hat',\n",
      "             'spinach',\n",
      "             'rectangle',\n",
      "             'sandwich',\n",
      "             'makeup',\n",
      "             'gymnastics',\n",
      "             'nitrogen']}\n",
      "--------------------\n",
      "Field #2\n",
      "{'black': 'camellia',\n",
      " 'blue': {'Body': ['hand'],\n",
      "          'Crime': ['prison', 'jail', 'lawyer', 'gun'],\n",
      "          'Shape': ['hexagon', 'pentagon', 'triangle']},\n",
      " 'neutral': ['melon',\n",
      "             'pink',\n",
      "             'cow',\n",
      "             'nose',\n",
      "             'egg',\n",
      "             'leather',\n",
      "             'mask',\n",
      "             'makeup',\n",
      "             'duck',\n",
      "             'roll',\n",
      "             'taxi',\n",
      "             'february',\n",
      "             'condor',\n",
      "             'bronze',\n",
      "             'network',\n",
      "             'soap']}\n",
      "--------------------\n",
      "Field #3\n",
      "{'black': 'france',\n",
      " 'blue': {'Computer': ['scanner', 'printer'],\n",
      "          'Crime': ['weapon', 'murderer'],\n",
      "          'Family': ['uncle', 'sister'],\n",
      "          'Music': ['piano', 'guitar']},\n",
      " 'neutral': ['beans',\n",
      "             'flea',\n",
      "             'golf',\n",
      "             'roll',\n",
      "             'radish',\n",
      "             'italy',\n",
      "             'albatross',\n",
      "             'hexagon',\n",
      "             'oval',\n",
      "             'puffin',\n",
      "             'bear',\n",
      "             'cheek',\n",
      "             'elephant',\n",
      "             'tank',\n",
      "             'iris',\n",
      "             'black']}\n",
      "--------------------\n"
     ]
    }
   ],
   "source": [
    "for i in range(len(get_batch.fields)):\n",
    "    print(f'Field #{i}')\n",
    "    pprint(get_batch.fields[i])\n",
    "    print('--------------------')"
   ]
  },
  {
   "cell_type": "code",
   "execution_count": 186,
   "metadata": {},
   "outputs": [],
   "source": [
    "import pandas as pd"
   ]
  },
  {
   "cell_type": "code",
   "execution_count": 187,
   "metadata": {
    "code_folding": [
     0
    ]
   },
   "outputs": [],
   "source": [
    "def get_log(alice_field, bob_field, cout=False):\n",
    "    df = {'alice_gt': [], 'alice_hints': [], 'bob_gt': [], 'bob_predictions': []}\n",
    "    \n",
    "    if cout:\n",
    "        print('Groud trurh:')\n",
    "    for i, a in enumerate(alice_field['label']):\n",
    "        df['alice_gt'].append(idx2category[a])\n",
    "        if cout:\n",
    "            print(f'Hint for field #{i}: {idx2category[a]}')\n",
    "    \n",
    "    blue_tensor = torch.as_tensor(alice_field['blue'], dtype=torch.float32, device=device).permute(1, 0, 2)\n",
    "    neutral_tensor = torch.as_tensor(alice_field['neutral'], dtype=torch.float32, device=device).permute(1, 0, 2)\n",
    "    black_tensor = torch.as_tensor(alice_field['black'], dtype=torch.float32, device=device)\n",
    "    labels = torch.as_tensor(alice_field['label'], dtype=torch.long, device=device)\n",
    "    \n",
    "    qvalues = model(blue_tensor, neutral_tensor, black_tensor)\n",
    "    actions = sample_action(qvalues, 0)\n",
    "    \n",
    "    hints = model.categories_embs[actions]\n",
    "    bob_field_tensor = torch.as_tensor(bob_field['field'], dtype=torch.float32, device=device).permute(1, 0, 2)\n",
    "    \n",
    "    # Given hints:\n",
    "    if cout:\n",
    "        print('')\n",
    "        print('Alice hints:')\n",
    "    for i, a in enumerate(actions.cpu().data.numpy()):\n",
    "        df['alice_hints'].append(idx2category[a])\n",
    "        if cout:\n",
    "            print(f'Hint for field #{i}: {idx2category[a]}')\n",
    "    \n",
    "    if cout:\n",
    "        print('')\n",
    "        print('Bob ground truth: ')\n",
    "    for i, labels in enumerate(bob_field['label']):\n",
    "        if cout:\n",
    "            print(f'Field #{i} correct words:')\n",
    "        bob_gt = []\n",
    "        for label in labels:\n",
    "            if cout:\n",
    "                print(bob_field['field_words'][i][label], end=' ')\n",
    "            bob_gt.append(bob_field['field_words'][i][label])\n",
    "        df['bob_gt'].append(bob_gt)\n",
    "        if cout:\n",
    "            print('\\n--------------------')\n",
    "    \n",
    "    bob_qvalues = bob_model(bob_field_tensor, hints)\n",
    "    bob_actions = []\n",
    "    for i, qvalues in enumerate(bob_qvalues):\n",
    "        gt = bob_field['label'][i]\n",
    "        bob_actions.append(sample_bob_action(qvalues, 0, k=len(gt)))\n",
    "    \n",
    "    if cout:\n",
    "        print('')\n",
    "        print('Bob prediction: ')\n",
    "    for i, labels in enumerate(bob_actions):\n",
    "        labels = labels.cpu().data.numpy()\n",
    "        if cout:\n",
    "            print(f'Field #{i} predictions:')\n",
    "        bob_gt = []\n",
    "        for label in labels:\n",
    "            if cout:\n",
    "                print(bob_field['field_words'][i][label], end=' ')\n",
    "            bob_gt.append(bob_field['field_words'][i][label])\n",
    "        df['bob_predictions'].append(bob_gt)\n",
    "        if cout:\n",
    "            print('\\n--------------------')\n",
    "    return pd.DataFrame(df)"
   ]
  },
  {
   "cell_type": "code",
   "execution_count": 188,
   "metadata": {
    "scrolled": false
   },
   "outputs": [],
   "source": [
    "log = get_log(alice_field, bob_field)"
   ]
  },
  {
   "cell_type": "code",
   "execution_count": 189,
   "metadata": {},
   "outputs": [
    {
     "data": {
      "text/html": [
       "<div>\n",
       "<style scoped>\n",
       "    .dataframe tbody tr th:only-of-type {\n",
       "        vertical-align: middle;\n",
       "    }\n",
       "\n",
       "    .dataframe tbody tr th {\n",
       "        vertical-align: top;\n",
       "    }\n",
       "\n",
       "    .dataframe thead th {\n",
       "        text-align: right;\n",
       "    }\n",
       "</style>\n",
       "<table border=\"1\" class=\"dataframe\">\n",
       "  <thead>\n",
       "    <tr style=\"text-align: right;\">\n",
       "      <th></th>\n",
       "      <th>alice_gt</th>\n",
       "      <th>alice_hints</th>\n",
       "      <th>bob_gt</th>\n",
       "      <th>bob_predictions</th>\n",
       "    </tr>\n",
       "  </thead>\n",
       "  <tbody>\n",
       "    <tr>\n",
       "      <th>0</th>\n",
       "      <td>Day</td>\n",
       "      <td>Sport</td>\n",
       "      <td>[friday, monday, sunday]</td>\n",
       "      <td>[sunday, monday, friday]</td>\n",
       "    </tr>\n",
       "    <tr>\n",
       "      <th>1</th>\n",
       "      <td>Flower</td>\n",
       "      <td>Head</td>\n",
       "      <td>[mimosa, orchid, jasmine]</td>\n",
       "      <td>[jasmine, orchid, mimosa]</td>\n",
       "    </tr>\n",
       "    <tr>\n",
       "      <th>2</th>\n",
       "      <td>Month</td>\n",
       "      <td>Computer</td>\n",
       "      <td>[may, april]</td>\n",
       "      <td>[april, monday]</td>\n",
       "    </tr>\n",
       "    <tr>\n",
       "      <th>3</th>\n",
       "      <td>Music</td>\n",
       "      <td>Gases</td>\n",
       "      <td>[notes, opera, organ]</td>\n",
       "      <td>[opera, organ, notes]</td>\n",
       "    </tr>\n",
       "    <tr>\n",
       "      <th>4</th>\n",
       "      <td>Head</td>\n",
       "      <td>Flower</td>\n",
       "      <td>[nose, wrinkles, forehead]</td>\n",
       "      <td>[sandwich, salad, wrinkles]</td>\n",
       "    </tr>\n",
       "    <tr>\n",
       "      <th>5</th>\n",
       "      <td>Body</td>\n",
       "      <td>Sport</td>\n",
       "      <td>[heart, hand]</td>\n",
       "      <td>[hand, heart]</td>\n",
       "    </tr>\n",
       "    <tr>\n",
       "      <th>6</th>\n",
       "      <td>Crime</td>\n",
       "      <td>Day</td>\n",
       "      <td>[prison, jail, lawyer, gun]</td>\n",
       "      <td>[gun, jail, prison, lawyer]</td>\n",
       "    </tr>\n",
       "    <tr>\n",
       "      <th>7</th>\n",
       "      <td>Shape</td>\n",
       "      <td>Computer</td>\n",
       "      <td>[hexagon, pentagon, triangle]</td>\n",
       "      <td>[hexagon, pentagon, triangle]</td>\n",
       "    </tr>\n",
       "    <tr>\n",
       "      <th>8</th>\n",
       "      <td>Body</td>\n",
       "      <td>Sport</td>\n",
       "      <td>[hand]</td>\n",
       "      <td>[hand]</td>\n",
       "    </tr>\n",
       "    <tr>\n",
       "      <th>9</th>\n",
       "      <td>Music</td>\n",
       "      <td>Gases</td>\n",
       "      <td>[piano, guitar]</td>\n",
       "      <td>[guitar, piano]</td>\n",
       "    </tr>\n",
       "    <tr>\n",
       "      <th>10</th>\n",
       "      <td>Crime</td>\n",
       "      <td>Countries</td>\n",
       "      <td>[weapon, murderer]</td>\n",
       "      <td>[tank, weapon]</td>\n",
       "    </tr>\n",
       "    <tr>\n",
       "      <th>11</th>\n",
       "      <td>Computer</td>\n",
       "      <td>Material</td>\n",
       "      <td>[scanner, printer]</td>\n",
       "      <td>[scanner, printer]</td>\n",
       "    </tr>\n",
       "    <tr>\n",
       "      <th>12</th>\n",
       "      <td>Family</td>\n",
       "      <td>Fruit</td>\n",
       "      <td>[uncle, sister]</td>\n",
       "      <td>[uncle, sister]</td>\n",
       "    </tr>\n",
       "  </tbody>\n",
       "</table>\n",
       "</div>"
      ],
      "text/plain": [
       "    alice_gt alice_hints                         bob_gt  \\\n",
       "0        Day       Sport       [friday, monday, sunday]   \n",
       "1     Flower        Head      [mimosa, orchid, jasmine]   \n",
       "2      Month    Computer                   [may, april]   \n",
       "3      Music       Gases          [notes, opera, organ]   \n",
       "4       Head      Flower     [nose, wrinkles, forehead]   \n",
       "5       Body       Sport                  [heart, hand]   \n",
       "6      Crime         Day    [prison, jail, lawyer, gun]   \n",
       "7      Shape    Computer  [hexagon, pentagon, triangle]   \n",
       "8       Body       Sport                         [hand]   \n",
       "9      Music       Gases                [piano, guitar]   \n",
       "10     Crime   Countries             [weapon, murderer]   \n",
       "11  Computer    Material             [scanner, printer]   \n",
       "12    Family       Fruit                [uncle, sister]   \n",
       "\n",
       "                  bob_predictions  \n",
       "0        [sunday, monday, friday]  \n",
       "1       [jasmine, orchid, mimosa]  \n",
       "2                 [april, monday]  \n",
       "3           [opera, organ, notes]  \n",
       "4     [sandwich, salad, wrinkles]  \n",
       "5                   [hand, heart]  \n",
       "6     [gun, jail, prison, lawyer]  \n",
       "7   [hexagon, pentagon, triangle]  \n",
       "8                          [hand]  \n",
       "9                 [guitar, piano]  \n",
       "10                 [tank, weapon]  \n",
       "11             [scanner, printer]  \n",
       "12                [uncle, sister]  "
      ]
     },
     "execution_count": 189,
     "metadata": {},
     "output_type": "execute_result"
    }
   ],
   "source": [
    "log"
   ]
  }
 ],
 "metadata": {
  "kernelspec": {
   "display_name": "Python 3",
   "language": "python",
   "name": "python3"
  },
  "language_info": {
   "codemirror_mode": {
    "name": "ipython",
    "version": 3
   },
   "file_extension": ".py",
   "mimetype": "text/x-python",
   "name": "python",
   "nbconvert_exporter": "python",
   "pygments_lexer": "ipython3",
   "version": "3.7.3"
  },
  "toc": {
   "base_numbering": 1,
   "nav_menu": {},
   "number_sections": true,
   "sideBar": true,
   "skip_h1_title": false,
   "title_cell": "Table of Contents",
   "title_sidebar": "Contents",
   "toc_cell": false,
   "toc_position": {},
   "toc_section_display": true,
   "toc_window_display": false
  }
 },
 "nbformat": 4,
 "nbformat_minor": 4
}
